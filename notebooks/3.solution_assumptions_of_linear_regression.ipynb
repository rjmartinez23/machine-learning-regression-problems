{
 "cells": [
  {
   "cell_type": "markdown",
   "metadata": {},
   "source": [
    "# Exercise 1: Predicting the temperature"
   ]
  },
  {
   "cell_type": "code",
   "execution_count": 52,
   "metadata": {},
   "outputs": [],
   "source": [
    "import numpy as np\n",
    "import pandas as pd\n",
    "import matplotlib.pyplot as plt\n",
    "from sqlalchemy import create_engine\n",
    "from sklearn import linear_model\n",
    "\n",
    "import warnings\n",
    "warnings.filterwarnings('ignore')\n",
    "\n",
    "postgres_user = 'dsbc_student'\n",
    "postgres_pw = '7*.8G9QH21'\n",
    "postgres_host = '142.93.121.174'\n",
    "postgres_port = '5432'\n",
    "postgres_db = 'weatherinszeged'"
   ]
  },
  {
   "cell_type": "code",
   "execution_count": 53,
   "metadata": {},
   "outputs": [],
   "source": [
    "engine = create_engine('postgresql://{}:{}@{}:{}/{}'.format(\n",
    "    postgres_user, postgres_pw, postgres_host, postgres_port, postgres_db))\n",
    "weather_df = pd.read_sql_query('select * from weatherinszeged',con=engine)\n",
    "\n",
    "# no need for an open connection, as we're only doing a single query\n",
    "engine.dispose()"
   ]
  },
  {
   "cell_type": "code",
   "execution_count": 54,
   "metadata": {},
   "outputs": [
    {
     "name": "stdout",
     "output_type": "stream",
     "text": [
      "\n",
      "Coefficients: \n",
      " [-3.24962454e+01 -2.01413742e-01  4.04836936e-03 -6.91759209e-04]\n",
      "\n",
      "Intercept: \n",
      " 37.92643818528471\n"
     ]
    }
   ],
   "source": [
    "# Y is the target variable\n",
    "Y = weather_df['temperature']\n",
    "\n",
    "# X is the feature set\n",
    "X = weather_df[['humidity','windspeed', 'windbearing', 'pressure']]\n",
    "\n",
    "# We create a LinearRegression model object\n",
    "# from scikit-learn's linear_model module.\n",
    "lrm = linear_model.LinearRegression()\n",
    "\n",
    "# fit method estimates the coefficients using OLS\n",
    "lrm.fit(X, Y)\n",
    "\n",
    "predictions = lrm.predict(X)\n",
    "errors = np.array(Y) - predictions\n",
    "\n",
    "# Estimated coefficients.\n",
    "print('\\nCoefficients: \\n', lrm.coef_)\n",
    "print('\\nIntercept: \\n', lrm.intercept_)"
   ]
  },
  {
   "cell_type": "markdown",
   "metadata": {},
   "source": [
    "### Assumption two: the error term should be zero on average"
   ]
  },
  {
   "cell_type": "code",
   "execution_count": 55,
   "metadata": {},
   "outputs": [
    {
     "name": "stdout",
     "output_type": "stream",
     "text": [
      "Mean of the errors in the medical costs model is: -5.563350793091222e-15\n"
     ]
    }
   ],
   "source": [
    "print(\"Mean of the errors in the medical costs model is: {}\".format(np.mean(errors)))"
   ]
  },
  {
   "cell_type": "markdown",
   "metadata": {},
   "source": [
    "Since the mean is very close to zero, we can assume that the average of the error terms is zero."
   ]
  },
  {
   "cell_type": "markdown",
   "metadata": {},
   "source": [
    "### Assumption three: homoscedasticity"
   ]
  },
  {
   "cell_type": "code",
   "execution_count": 56,
   "metadata": {},
   "outputs": [
    {
     "data": {
      "image/png": "[encoded data removed]",
      "text/plain": [
       "<Figure size 432x288 with 1 Axes>"
      ]
     },
     "metadata": {},
     "output_type": "display_data"
    }
   ],
   "source": [
    "plt.scatter(predictions, errors)\n",
    "plt.xlabel('Predicted')\n",
    "plt.ylabel('Residual')\n",
    "plt.axhline(y=0)\n",
    "plt.title('Residual vs. Predicted')\n",
    "plt.show()"
   ]
  },
  {
   "cell_type": "code",
   "execution_count": 57,
   "metadata": {},
   "outputs": [
    {
     "name": "stdout",
     "output_type": "stream",
     "text": [
      "Bartlett test statistic value is 2464.84 and p value is 0\n",
      "Levene test statistic value is 2321.24 and p value is 0\n"
     ]
    }
   ],
   "source": [
    "from scipy.stats import bartlett\n",
    "from scipy.stats import levene\n",
    "\n",
    "bart_stats = bartlett(predictions, errors)\n",
    "lev_stats = levene(predictions, errors)\n",
    "\n",
    "print(\"Bartlett test statistic value is {0:3g} and p value is {1:.3g}\".format(bart_stats[0], bart_stats[1]))\n",
    "print(\"Levene test statistic value is {0:3g} and p value is {1:.3g}\".format(lev_stats[0], lev_stats[1]))"
   ]
  },
  {
   "cell_type": "markdown",
   "metadata": {},
   "source": [
    "Both the chart and the test results show us that there is heteroscedasticity problem in our model. Hence, the accuracies of our estimated parameters are not reliable."
   ]
  },
  {
   "cell_type": "markdown",
   "metadata": {},
   "source": [
    "### Assumption four: low multicollinearity"
   ]
  },
  {
   "cell_type": "code",
   "execution_count": 58,
   "metadata": {},
   "outputs": [
    {
     "data": {
      "text/html": [
       "<div>\n",
       "<style scoped>\n",
       "    .dataframe tbody tr th:only-of-type {\n",
       "        vertical-align: middle;\n",
       "    }\n",
       "\n",
       "    .dataframe tbody tr th {\n",
       "        vertical-align: top;\n",
       "    }\n",
       "\n",
       "    .dataframe thead th {\n",
       "        text-align: right;\n",
       "    }\n",
       "</style>\n",
       "<table border=\"1\" class=\"dataframe\">\n",
       "  <thead>\n",
       "    <tr style=\"text-align: right;\">\n",
       "      <th></th>\n",
       "      <th>humidity</th>\n",
       "      <th>windspeed</th>\n",
       "      <th>windbearing</th>\n",
       "      <th>pressure</th>\n",
       "    </tr>\n",
       "  </thead>\n",
       "  <tbody>\n",
       "    <tr>\n",
       "      <th>humidity</th>\n",
       "      <td>1.000000</td>\n",
       "      <td>-0.224951</td>\n",
       "      <td>0.000735</td>\n",
       "      <td>0.005454</td>\n",
       "    </tr>\n",
       "    <tr>\n",
       "      <th>windspeed</th>\n",
       "      <td>-0.224951</td>\n",
       "      <td>1.000000</td>\n",
       "      <td>0.103822</td>\n",
       "      <td>-0.049263</td>\n",
       "    </tr>\n",
       "    <tr>\n",
       "      <th>windbearing</th>\n",
       "      <td>0.000735</td>\n",
       "      <td>0.103822</td>\n",
       "      <td>1.000000</td>\n",
       "      <td>-0.011651</td>\n",
       "    </tr>\n",
       "    <tr>\n",
       "      <th>pressure</th>\n",
       "      <td>0.005454</td>\n",
       "      <td>-0.049263</td>\n",
       "      <td>-0.011651</td>\n",
       "      <td>1.000000</td>\n",
       "    </tr>\n",
       "  </tbody>\n",
       "</table>\n",
       "</div>"
      ],
      "text/plain": [
       "             humidity  windspeed  windbearing  pressure\n",
       "humidity     1.000000  -0.224951     0.000735  0.005454\n",
       "windspeed   -0.224951   1.000000     0.103822 -0.049263\n",
       "windbearing  0.000735   0.103822     1.000000 -0.011651\n",
       "pressure     0.005454  -0.049263    -0.011651  1.000000"
      ]
     },
     "execution_count": 58,
     "metadata": {},
     "output_type": "execute_result"
    }
   ],
   "source": [
    "X.corr()"
   ]
  },
  {
   "cell_type": "markdown",
   "metadata": {},
   "source": [
    "As the table above suggests, the correlation between the features are very low. The mostly correlated variables are windspeed and humidity and the correlation is just -0.22."
   ]
  },
  {
   "cell_type": "markdown",
   "metadata": {},
   "source": [
    "### Assumption five: error terms should be uncorrelated with one other"
   ]
  },
  {
   "cell_type": "code",
   "execution_count": 59,
   "metadata": {},
   "outputs": [
    {
     "data": {
      "image/png": "[encoded data removed]",
      "text/plain": [
       "<Figure size 432x288 with 1 Axes>"
      ]
     },
     "metadata": {},
     "output_type": "display_data"
    }
   ],
   "source": [
    "plt.plot(errors)\n",
    "plt.show()"
   ]
  },
  {
   "cell_type": "code",
   "execution_count": 60,
   "metadata": {
    "scrolled": true
   },
   "outputs": [
    {
     "data": {
      "image/png": "[encoded data removed]",
      "text/plain": [
       "<Figure size 432x288 with 1 Axes>"
      ]
     },
     "metadata": {},
     "output_type": "display_data"
    }
   ],
   "source": [
    "from statsmodels.tsa.stattools import acf\n",
    "\n",
    "acf_data = acf(errors)\n",
    "\n",
    "plt.plot(acf_data[1:])\n",
    "plt.show()"
   ]
  },
  {
   "cell_type": "markdown",
   "metadata": {},
   "source": [
    "It seems that the errors are serially correlated. This is because of the time series nature of the data. The weather from the previous day is highly correlated with the weather today. Our model can't explain the temperature very well and hence it suffers from the omitted variable. However, since the dataset involves very limited number of features, fixing this issue is not trivial."
   ]
  },
  {
   "cell_type": "markdown",
   "metadata": {},
   "source": [
    "### Assumption six: features shouldn't be correlated with the errors"
   ]
  },
  {
   "cell_type": "code",
   "execution_count": 61,
   "metadata": {},
   "outputs": [
    {
     "data": {
      "text/html": [
       "<div>\n",
       "<style scoped>\n",
       "    .dataframe tbody tr th:only-of-type {\n",
       "        vertical-align: middle;\n",
       "    }\n",
       "\n",
       "    .dataframe tbody tr th {\n",
       "        vertical-align: top;\n",
       "    }\n",
       "\n",
       "    .dataframe thead th {\n",
       "        text-align: right;\n",
       "    }\n",
       "</style>\n",
       "<table border=\"1\" class=\"dataframe\">\n",
       "  <thead>\n",
       "    <tr style=\"text-align: right;\">\n",
       "      <th></th>\n",
       "      <th>error</th>\n",
       "    </tr>\n",
       "  </thead>\n",
       "  <tbody>\n",
       "    <tr>\n",
       "      <th>humidity</th>\n",
       "      <td>-2.503115e-14</td>\n",
       "    </tr>\n",
       "    <tr>\n",
       "      <th>windspeed</th>\n",
       "      <td>6.447441e-15</td>\n",
       "    </tr>\n",
       "    <tr>\n",
       "      <th>windbearing</th>\n",
       "      <td>2.019223e-16</td>\n",
       "    </tr>\n",
       "    <tr>\n",
       "      <th>pressure</th>\n",
       "      <td>-1.009730e-15</td>\n",
       "    </tr>\n",
       "    <tr>\n",
       "      <th>error</th>\n",
       "      <td>1.000000e+00</td>\n",
       "    </tr>\n",
       "  </tbody>\n",
       "</table>\n",
       "</div>"
      ],
      "text/plain": [
       "                    error\n",
       "humidity    -2.503115e-14\n",
       "windspeed    6.447441e-15\n",
       "windbearing  2.019223e-16\n",
       "pressure    -1.009730e-15\n",
       "error        1.000000e+00"
      ]
     },
     "execution_count": 61,
     "metadata": {},
     "output_type": "execute_result"
    }
   ],
   "source": [
    "df = pd.concat([X, pd.DataFrame(errors, columns=[\"error\"])], axis=1)\n",
    "df.corr().iloc[:,-1:]"
   ]
  },
  {
   "cell_type": "markdown",
   "metadata": {},
   "source": [
    "As evidenced above, the correlation between the features and the errors are very low."
   ]
  },
  {
   "cell_type": "markdown",
   "metadata": {},
   "source": [
    "### An important remark on the normality of the errors"
   ]
  },
  {
   "cell_type": "code",
   "execution_count": 9,
   "metadata": {
    "scrolled": true
   },
   "outputs": [
    {
     "name": "stdout",
     "output_type": "stream",
     "text": [
      "Jarque-Bera test statistics is 3793.296735252227 and p value is 0.0\n",
      "Normality test statistics is 3375.4323076994956 and p value is 0.0\n"
     ]
    }
   ],
   "source": [
    "from scipy.stats import jarque_bera\n",
    "from scipy.stats import normaltest\n",
    "\n",
    "jb_stats = jarque_bera(errors)\n",
    "norm_stats = normaltest(errors)\n",
    "\n",
    "print(\"Jarque-Bera test statistics is {0} and p value is {1}\".format(jb_stats[0], jb_stats[1]))\n",
    "print(\"Normality test statistics is {0} and p value is {1}\".format(norm_stats[0], norm_stats[1]))"
   ]
  },
  {
   "cell_type": "markdown",
   "metadata": {},
   "source": [
    "Normality tests indicate that the errors of the model are not distributed normally. This implies that the test statistics for the coefficients are problematic."
   ]
  },
  {
   "cell_type": "markdown",
   "metadata": {},
   "source": [
    "# Exercise 2: House prices"
   ]
  },
  {
   "cell_type": "code",
   "execution_count": 62,
   "metadata": {},
   "outputs": [],
   "source": [
    "import numpy as np\n",
    "import pandas as pd\n",
    "import matplotlib.pyplot as plt\n",
    "from sqlalchemy import create_engine\n",
    "from sklearn import linear_model\n",
    "\n",
    "import warnings\n",
    "warnings.filterwarnings('ignore')\n",
    "\n",
    "postgres_user = 'dsbc_student'\n",
    "postgres_pw = '7*.8G9QH21'\n",
    "postgres_host = '142.93.121.174'\n",
    "postgres_port = '5432'\n",
    "postgres_db = 'houseprices'"
   ]
  },
  {
   "cell_type": "code",
   "execution_count": 63,
   "metadata": {},
   "outputs": [],
   "source": [
    "engine = create_engine('postgresql://{}:{}@{}:{}/{}'.format(\n",
    "    postgres_user, postgres_pw, postgres_host, postgres_port, postgres_db))\n",
    "house_prices_df = pd.read_sql_query('select * from houseprices',con=engine)\n",
    "\n",
    "# no need for an open connection, as we're only doing a single query\n",
    "engine.dispose()"
   ]
  },
  {
   "cell_type": "code",
   "execution_count": 64,
   "metadata": {},
   "outputs": [],
   "source": [
    "house_prices_df = pd.concat([house_prices_df,pd.get_dummies(house_prices_df.mszoning, prefix=\"mszoning\", drop_first=True)], axis=1)\n",
    "house_prices_df = pd.concat([house_prices_df,pd.get_dummies(house_prices_df.street, prefix=\"street\", drop_first=True)], axis=1)\n",
    "dummy_column_names = list(pd.get_dummies(house_prices_df.mszoning, prefix=\"mszoning\", drop_first=True).columns)\n",
    "dummy_column_names = dummy_column_names + list(pd.get_dummies(house_prices_df.street, prefix=\"street\", drop_first=True).columns)"
   ]
  },
  {
   "cell_type": "code",
   "execution_count": 87,
   "metadata": {},
   "outputs": [
    {
     "name": "stdout",
     "output_type": "stream",
     "text": [
      "\n",
      "Coefficients: \n",
      " [21636.11831431    47.61074511  5502.16876014    38.7830869\n",
      "    39.92749303 29974.2662167  14960.22006443 30152.46873247\n",
      " 12975.53397893  2242.02609805]\n",
      "\n",
      "Intercept: \n",
      " -122951.85479583053\n"
     ]
    }
   ],
   "source": [
    "# Y is the target variable\n",
    "Y = house_prices_df['saleprice']\n",
    "# X is the feature set\n",
    "X = house_prices_df[['overallqual', 'grlivarea', 'garagecars', 'garagearea', 'totalbsmtsf'] + dummy_column_names]\n",
    "\n",
    "# We create a LinearRegression model object\n",
    "# from scikit-learn's linear_model module.\n",
    "lrm = linear_model.LinearRegression()\n",
    "\n",
    "# fit method estimates the coefficients using OLS\n",
    "lrm.fit(X, Y)\n",
    "\n",
    "predictions = lrm.predict(X)\n",
    "errors = np.array(Y) - predictions\n",
    "\n",
    "# Estimated coefficients.\n",
    "print('\\nCoefficients: \\n', lrm.coef_)\n",
    "print('\\nIntercept: \\n', lrm.intercept_)"
   ]
  },
  {
   "cell_type": "markdown",
   "metadata": {},
   "source": [
    "### Assumption two: the error term should be zero on average"
   ]
  },
  {
   "cell_type": "code",
   "execution_count": 88,
   "metadata": {},
   "outputs": [
    {
     "name": "stdout",
     "output_type": "stream",
     "text": [
      "Mean of the errors in the medical costs model is: 5.284326850466092e-12\n"
     ]
    }
   ],
   "source": [
    "print(\"Mean of the errors in the medical costs model is: {}\".format(np.mean(errors)))"
   ]
  },
  {
   "cell_type": "markdown",
   "metadata": {},
   "source": [
    "The average error is quite close to zero so we can assume that it is zero."
   ]
  },
  {
   "cell_type": "markdown",
   "metadata": {},
   "source": [
    "### Assumption three: homoscedasticity"
   ]
  },
  {
   "cell_type": "code",
   "execution_count": 89,
   "metadata": {},
   "outputs": [
    {
     "data": {
      "image/png": "[encoded data removed]",
      "text/plain": [
       "<Figure size 432x288 with 1 Axes>"
      ]
     },
     "metadata": {},
     "output_type": "display_data"
    }
   ],
   "source": [
    "plt.scatter(predictions, errors)\n",
    "plt.xlabel('Predicted')\n",
    "plt.ylabel('Residual')\n",
    "plt.axhline(y=0)\n",
    "plt.title('Residual vs. Predicted')\n",
    "plt.show()"
   ]
  },
  {
   "cell_type": "code",
   "execution_count": 90,
   "metadata": {},
   "outputs": [
    {
     "name": "stdout",
     "output_type": "stream",
     "text": [
      "Bartlett test statistic value is 723.465 and p value is 2.36e-159\n",
      "Levene test statistic value is 628.583 and p value is 9.5e-126\n"
     ]
    }
   ],
   "source": [
    "from scipy.stats import bartlett\n",
    "from scipy.stats import levene\n",
    "\n",
    "bart_stats = bartlett(predictions, errors)\n",
    "lev_stats = levene(predictions, errors)\n",
    "\n",
    "print(\"Bartlett test statistic value is {0:3g} and p value is {1:.3g}\".format(bart_stats[0], bart_stats[1]))\n",
    "print(\"Levene test statistic value is {0:3g} and p value is {1:.3g}\".format(lev_stats[0], lev_stats[1]))"
   ]
  },
  {
   "cell_type": "markdown",
   "metadata": {},
   "source": [
    "Both the chart and the test statistics indicate that our model suffers from heteroscedasticity. This implies that the accuracies of our estimations are not reliable."
   ]
  },
  {
   "cell_type": "markdown",
   "metadata": {},
   "source": [
    "### Assumption four: low multicollinearity"
   ]
  },
  {
   "cell_type": "code",
   "execution_count": 91,
   "metadata": {},
   "outputs": [
    {
     "data": {
      "text/html": [
       "<div>\n",
       "<style scoped>\n",
       "    .dataframe tbody tr th:only-of-type {\n",
       "        vertical-align: middle;\n",
       "    }\n",
       "\n",
       "    .dataframe tbody tr th {\n",
       "        vertical-align: top;\n",
       "    }\n",
       "\n",
       "    .dataframe thead th {\n",
       "        text-align: right;\n",
       "    }\n",
       "</style>\n",
       "<table border=\"1\" class=\"dataframe\">\n",
       "  <thead>\n",
       "    <tr style=\"text-align: right;\">\n",
       "      <th></th>\n",
       "      <th>overallqual</th>\n",
       "      <th>grlivarea</th>\n",
       "      <th>garagecars</th>\n",
       "      <th>garagearea</th>\n",
       "      <th>totalbsmtsf</th>\n",
       "      <th>mszoning_FV</th>\n",
       "      <th>mszoning_RH</th>\n",
       "      <th>mszoning_RL</th>\n",
       "      <th>mszoning_RM</th>\n",
       "      <th>street_Pave</th>\n",
       "    </tr>\n",
       "  </thead>\n",
       "  <tbody>\n",
       "    <tr>\n",
       "      <th>overallqual</th>\n",
       "      <td>1.000000</td>\n",
       "      <td>0.579911</td>\n",
       "      <td>0.597097</td>\n",
       "      <td>0.553099</td>\n",
       "      <td>0.530136</td>\n",
       "      <td>0.176721</td>\n",
       "      <td>-0.064477</td>\n",
       "      <td>0.123303</td>\n",
       "      <td>-0.193923</td>\n",
       "      <td>0.058991</td>\n",
       "    </tr>\n",
       "    <tr>\n",
       "      <th>grlivarea</th>\n",
       "      <td>0.579911</td>\n",
       "      <td>1.000000</td>\n",
       "      <td>0.471052</td>\n",
       "      <td>0.451268</td>\n",
       "      <td>0.390054</td>\n",
       "      <td>0.031113</td>\n",
       "      <td>0.001352</td>\n",
       "      <td>0.130104</td>\n",
       "      <td>-0.155248</td>\n",
       "      <td>0.045713</td>\n",
       "    </tr>\n",
       "    <tr>\n",
       "      <th>garagecars</th>\n",
       "      <td>0.597097</td>\n",
       "      <td>0.471052</td>\n",
       "      <td>1.000000</td>\n",
       "      <td>0.886455</td>\n",
       "      <td>0.446384</td>\n",
       "      <td>0.104627</td>\n",
       "      <td>-0.090286</td>\n",
       "      <td>0.173028</td>\n",
       "      <td>-0.220488</td>\n",
       "      <td>-0.020500</td>\n",
       "    </tr>\n",
       "    <tr>\n",
       "      <th>garagearea</th>\n",
       "      <td>0.553099</td>\n",
       "      <td>0.451268</td>\n",
       "      <td>0.886455</td>\n",
       "      <td>1.000000</td>\n",
       "      <td>0.469909</td>\n",
       "      <td>0.118175</td>\n",
       "      <td>-0.073115</td>\n",
       "      <td>0.167051</td>\n",
       "      <td>-0.234706</td>\n",
       "      <td>-0.048940</td>\n",
       "    </tr>\n",
       "    <tr>\n",
       "      <th>totalbsmtsf</th>\n",
       "      <td>0.530136</td>\n",
       "      <td>0.390054</td>\n",
       "      <td>0.446384</td>\n",
       "      <td>0.469909</td>\n",
       "      <td>1.000000</td>\n",
       "      <td>-0.030831</td>\n",
       "      <td>-0.056900</td>\n",
       "      <td>0.265277</td>\n",
       "      <td>-0.256428</td>\n",
       "      <td>0.004195</td>\n",
       "    </tr>\n",
       "    <tr>\n",
       "      <th>mszoning_FV</th>\n",
       "      <td>0.176721</td>\n",
       "      <td>0.031113</td>\n",
       "      <td>0.104627</td>\n",
       "      <td>0.118175</td>\n",
       "      <td>-0.030831</td>\n",
       "      <td>1.000000</td>\n",
       "      <td>-0.022818</td>\n",
       "      <td>-0.416418</td>\n",
       "      <td>-0.090850</td>\n",
       "      <td>0.013925</td>\n",
       "    </tr>\n",
       "    <tr>\n",
       "      <th>mszoning_RH</th>\n",
       "      <td>-0.064477</td>\n",
       "      <td>0.001352</td>\n",
       "      <td>-0.090286</td>\n",
       "      <td>-0.073115</td>\n",
       "      <td>-0.056900</td>\n",
       "      <td>-0.022818</td>\n",
       "      <td>1.000000</td>\n",
       "      <td>-0.203050</td>\n",
       "      <td>-0.044300</td>\n",
       "      <td>0.006790</td>\n",
       "    </tr>\n",
       "    <tr>\n",
       "      <th>mszoning_RL</th>\n",
       "      <td>0.123303</td>\n",
       "      <td>0.130104</td>\n",
       "      <td>0.173028</td>\n",
       "      <td>0.167051</td>\n",
       "      <td>0.265277</td>\n",
       "      <td>-0.416418</td>\n",
       "      <td>-0.203050</td>\n",
       "      <td>1.000000</td>\n",
       "      <td>-0.808430</td>\n",
       "      <td>0.045236</td>\n",
       "    </tr>\n",
       "    <tr>\n",
       "      <th>mszoning_RM</th>\n",
       "      <td>-0.193923</td>\n",
       "      <td>-0.155248</td>\n",
       "      <td>-0.220488</td>\n",
       "      <td>-0.234706</td>\n",
       "      <td>-0.256428</td>\n",
       "      <td>-0.090850</td>\n",
       "      <td>-0.044300</td>\n",
       "      <td>-0.808430</td>\n",
       "      <td>1.000000</td>\n",
       "      <td>-0.003018</td>\n",
       "    </tr>\n",
       "    <tr>\n",
       "      <th>street_Pave</th>\n",
       "      <td>0.058991</td>\n",
       "      <td>0.045713</td>\n",
       "      <td>-0.020500</td>\n",
       "      <td>-0.048940</td>\n",
       "      <td>0.004195</td>\n",
       "      <td>0.013925</td>\n",
       "      <td>0.006790</td>\n",
       "      <td>0.045236</td>\n",
       "      <td>-0.003018</td>\n",
       "      <td>1.000000</td>\n",
       "    </tr>\n",
       "  </tbody>\n",
       "</table>\n",
       "</div>"
      ],
      "text/plain": [
       "             overallqual  grlivarea  garagecars  garagearea  totalbsmtsf  \\\n",
       "overallqual     1.000000   0.579911    0.597097    0.553099     0.530136   \n",
       "grlivarea       0.579911   1.000000    0.471052    0.451268     0.390054   \n",
       "garagecars      0.597097   0.471052    1.000000    0.886455     0.446384   \n",
       "garagearea      0.553099   0.451268    0.886455    1.000000     0.469909   \n",
       "totalbsmtsf     0.530136   0.390054    0.446384    0.469909     1.000000   \n",
       "mszoning_FV     0.176721   0.031113    0.104627    0.118175    -0.030831   \n",
       "mszoning_RH    -0.064477   0.001352   -0.090286   -0.073115    -0.056900   \n",
       "mszoning_RL     0.123303   0.130104    0.173028    0.167051     0.265277   \n",
       "mszoning_RM    -0.193923  -0.155248   -0.220488   -0.234706    -0.256428   \n",
       "street_Pave     0.058991   0.045713   -0.020500   -0.048940     0.004195   \n",
       "\n",
       "             mszoning_FV  mszoning_RH  mszoning_RL  mszoning_RM  street_Pave  \n",
       "overallqual     0.176721    -0.064477     0.123303    -0.193923     0.058991  \n",
       "grlivarea       0.031113     0.001352     0.130104    -0.155248     0.045713  \n",
       "garagecars      0.104627    -0.090286     0.173028    -0.220488    -0.020500  \n",
       "garagearea      0.118175    -0.073115     0.167051    -0.234706    -0.048940  \n",
       "totalbsmtsf    -0.030831    -0.056900     0.265277    -0.256428     0.004195  \n",
       "mszoning_FV     1.000000    -0.022818    -0.416418    -0.090850     0.013925  \n",
       "mszoning_RH    -0.022818     1.000000    -0.203050    -0.044300     0.006790  \n",
       "mszoning_RL    -0.416418    -0.203050     1.000000    -0.808430     0.045236  \n",
       "mszoning_RM    -0.090850    -0.044300    -0.808430     1.000000    -0.003018  \n",
       "street_Pave     0.013925     0.006790     0.045236    -0.003018     1.000000  "
      ]
     },
     "execution_count": 91,
     "metadata": {},
     "output_type": "execute_result"
    }
   ],
   "source": [
    "X.corr()"
   ]
  },
  {
   "cell_type": "markdown",
   "metadata": {},
   "source": [
    "We have some highly correlated features like *garagearea* and *garagecars*. We can solve this issue by dropping one of the strongly correlated variables from the model."
   ]
  },
  {
   "cell_type": "markdown",
   "metadata": {},
   "source": [
    "### Assumption five: error terms should be uncorrelated with one other"
   ]
  },
  {
   "cell_type": "code",
   "execution_count": 92,
   "metadata": {},
   "outputs": [
    {
     "data": {
      "image/png": "[encoded data removed]",
      "text/plain": [
       "<Figure size 432x288 with 1 Axes>"
      ]
     },
     "metadata": {},
     "output_type": "display_data"
    }
   ],
   "source": [
    "plt.plot(errors)\n",
    "plt.show()"
   ]
  },
  {
   "cell_type": "code",
   "execution_count": 93,
   "metadata": {
    "scrolled": true
   },
   "outputs": [
    {
     "data": {
      "image/png": "[encoded data removed]",
      "text/plain": [
       "<Figure size 432x288 with 1 Axes>"
      ]
     },
     "metadata": {},
     "output_type": "display_data"
    }
   ],
   "source": [
    "from statsmodels.tsa.stattools import acf\n",
    "\n",
    "acf_data = acf(errors)\n",
    "\n",
    "plt.plot(acf_data[1:])\n",
    "plt.show()"
   ]
  },
  {
   "cell_type": "markdown",
   "metadata": {},
   "source": [
    "The charts above indicate that the error terms are uncorrelated with each other."
   ]
  },
  {
   "cell_type": "markdown",
   "metadata": {},
   "source": [
    "### Assumption six: features shouldn't be correlated with the errors"
   ]
  },
  {
   "cell_type": "code",
   "execution_count": 94,
   "metadata": {
    "scrolled": true
   },
   "outputs": [
    {
     "data": {
      "text/html": [
       "<div>\n",
       "<style scoped>\n",
       "    .dataframe tbody tr th:only-of-type {\n",
       "        vertical-align: middle;\n",
       "    }\n",
       "\n",
       "    .dataframe tbody tr th {\n",
       "        vertical-align: top;\n",
       "    }\n",
       "\n",
       "    .dataframe thead th {\n",
       "        text-align: right;\n",
       "    }\n",
       "</style>\n",
       "<table border=\"1\" class=\"dataframe\">\n",
       "  <thead>\n",
       "    <tr style=\"text-align: right;\">\n",
       "      <th></th>\n",
       "      <th>error</th>\n",
       "    </tr>\n",
       "  </thead>\n",
       "  <tbody>\n",
       "    <tr>\n",
       "      <th>overallqual</th>\n",
       "      <td>0.019523</td>\n",
       "    </tr>\n",
       "    <tr>\n",
       "      <th>grlivarea</th>\n",
       "      <td>0.046022</td>\n",
       "    </tr>\n",
       "    <tr>\n",
       "      <th>garagecars</th>\n",
       "      <td>0.051089</td>\n",
       "    </tr>\n",
       "    <tr>\n",
       "      <th>garagearea</th>\n",
       "      <td>0.049024</td>\n",
       "    </tr>\n",
       "    <tr>\n",
       "      <th>totalbsmtsf</th>\n",
       "      <td>-0.007251</td>\n",
       "    </tr>\n",
       "    <tr>\n",
       "      <th>mszoning_FV</th>\n",
       "      <td>0.021536</td>\n",
       "    </tr>\n",
       "    <tr>\n",
       "      <th>mszoning_RH</th>\n",
       "      <td>-0.003766</td>\n",
       "    </tr>\n",
       "    <tr>\n",
       "      <th>mszoning_RL</th>\n",
       "      <td>-0.020791</td>\n",
       "    </tr>\n",
       "    <tr>\n",
       "      <th>mszoning_RM</th>\n",
       "      <td>0.019275</td>\n",
       "    </tr>\n",
       "    <tr>\n",
       "      <th>street_Pave</th>\n",
       "      <td>-0.000214</td>\n",
       "    </tr>\n",
       "    <tr>\n",
       "      <th>error</th>\n",
       "      <td>1.000000</td>\n",
       "    </tr>\n",
       "  </tbody>\n",
       "</table>\n",
       "</div>"
      ],
      "text/plain": [
       "                error\n",
       "overallqual  0.019523\n",
       "grlivarea    0.046022\n",
       "garagecars   0.051089\n",
       "garagearea   0.049024\n",
       "totalbsmtsf -0.007251\n",
       "mszoning_FV  0.021536\n",
       "mszoning_RH -0.003766\n",
       "mszoning_RL -0.020791\n",
       "mszoning_RM  0.019275\n",
       "street_Pave -0.000214\n",
       "error        1.000000"
      ]
     },
     "execution_count": 94,
     "metadata": {},
     "output_type": "execute_result"
    }
   ],
   "source": [
    "df = pd.concat([X, pd.DataFrame(errors, columns=[\"error\"])], axis=1)\n",
    "df.corr().iloc[:,-1:]"
   ]
  },
  {
   "cell_type": "markdown",
   "metadata": {},
   "source": [
    "As evidenced in the table above, the features and the errors are not **linearly** correlated."
   ]
  },
  {
   "cell_type": "markdown",
   "metadata": {},
   "source": [
    "### An important remark on the normality of the errors"
   ]
  },
  {
   "cell_type": "code",
   "execution_count": 95,
   "metadata": {},
   "outputs": [
    {
     "name": "stdout",
     "output_type": "stream",
     "text": [
      "Jarque-Bera test statistics is 2843.9980035501744 and p value is 0.0\n",
      "Normality test statistics is 385.02559105244535 and p value is 2.4703313347752903e-84\n"
     ]
    }
   ],
   "source": [
    "from scipy.stats import jarque_bera\n",
    "from scipy.stats import normaltest\n",
    "\n",
    "jb_stats = jarque_bera(errors)\n",
    "norm_stats = normaltest(errors)\n",
    "\n",
    "print(\"Jarque-Bera test statistics is {0} and p value is {1}\".format(jb_stats[0], jb_stats[1]))\n",
    "print(\"Normality test statistics is {0} and p value is {1}\".format(norm_stats[0], norm_stats[1]))"
   ]
  },
  {
   "cell_type": "markdown",
   "metadata": {},
   "source": [
    "Normality tests indicate that the errors of the model are not distributed normally. This implies that the test statistics for the coefficients are problematic."
   ]
  }
 ],
 "metadata": {
  "kernelspec": {
   "display_name": "Python 3",
   "language": "python",
   "name": "python3"
  },
  "language_info": {
   "codemirror_mode": {
    "name": "ipython",
    "version": 3
   },
   "file_extension": ".py",
   "mimetype": "text/x-python",
   "name": "python",
   "nbconvert_exporter": "python",
   "pygments_lexer": "ipython3",
   "version": "3.6.5"
  }
 },
 "nbformat": 4,
 "nbformat_minor": 2
}
